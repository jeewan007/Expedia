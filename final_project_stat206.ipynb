{
 "cells": [
  {
   "cell_type": "code",
   "execution_count": null,
   "id": "d4b3120c-9054-41d9-8648-8930f2c55d03",
   "metadata": {},
   "outputs": [],
   "source": [
    "import pandas as pd\n",
    "import numpy as np\n",
    "import matplotlib.pyplot as plt\n",
    "import seaborn as sns\n",
    "\n",
    "import warnings\n",
    "warnings.filterwarnings('ignore')\n",
    "\n",
    "from sklearn.preprocessing import LabelEncoder\n",
    "from sklearn.model_selection import train_test_split, GridSearchCV\n",
    "from sklearn.preprocessing import StandardScaler\n",
    "from sklearn.metrics import accuracy_score, confusion_matrix, classification_report\n",
    "from sklearn.linear_model import LogisticRegression\n",
    "from sklearn.neighbors import KNeighborsClassifier\n",
    "from sklearn.svm import SVC\n",
    "from sklearn.tree import DecisionTreeClassifier\n",
    "from sklearn.ensemble import RandomForestClassifier\n",
    "from sklearn.ensemble import AdaBoostClassifier\n",
    "from sklearn.ensemble import GradientBoostingClassifier\n",
    "from xgboost import XGBClassifier\n",
    "from catboost import CatBoostClassifier\n",
    "from sklearn.ensemble import ExtraTreesClassifier\n",
    "from lightgbm import LGBMClassifier\n",
    "from sklearn.ensemble import VotingClassifier"
   ]
  },
  {
   "cell_type": "code",
   "execution_count": null,
   "id": "ebe4f2ab-de54-4f64-9ba1-2afcabadfb0f",
   "metadata": {},
   "outputs": [],
   "source": [
    "data = pd.read_csv(\"datasets/data_sample.csv\")\n",
    "dest = pd.read_csv(\"datasets/dest.zip\", delimiter = \"\\t\", compression=\"zip\")"
   ]
  },
  {
   "cell_type": "code",
   "execution_count": null,
   "id": "78b921b4-37a7-4e25-ac35-cf6543156360",
   "metadata": {},
   "outputs": [],
   "source": [
    "print(data.shape)\n",
    "print(dest.shape)"
   ]
  },
  {
   "cell_type": "code",
   "execution_count": null,
   "id": "22375241-5500-4b6b-b4fd-9ecc1793af02",
   "metadata": {},
   "outputs": [],
   "source": [
    "merged = pd.merge(data, dest)\n",
    "merged.shape"
   ]
  },
  {
   "cell_type": "code",
   "execution_count": null,
   "id": "307f7175-378c-4404-aa3f-8f9bc9d5ff60",
   "metadata": {},
   "outputs": [],
   "source": [
    "merged.columns.tolist()"
   ]
  },
  {
   "cell_type": "code",
   "execution_count": null,
   "id": "6e4bc4d0-7848-4492-9847-00ab269efbba",
   "metadata": {},
   "outputs": [],
   "source": [
    "# Set the maximum number of rows to display\n",
    "pd.set_option('display.max_rows', None)\n",
    "missing_values = merged.isna().sum()\n",
    "# Print the number of missing values in each column\n",
    "print(missing_values)"
   ]
  },
  {
   "cell_type": "code",
   "execution_count": null,
   "id": "93e3808a-c99e-47a4-ba90-d80d941942b7",
   "metadata": {},
   "outputs": [],
   "source": [
    "# drop missing values\n",
    "merged.dropna(inplace=True)"
   ]
  },
  {
   "cell_type": "code",
   "execution_count": null,
   "id": "2785963b-a07c-44b3-8ced-2242e9abc9e5",
   "metadata": {},
   "outputs": [],
   "source": [
    "# Set the maximum number of rows to display\n",
    "pd.set_option('display.max_rows', None)\n",
    "missing_values = merged.isna().sum()\n",
    "# Print the number of missing values in each column\n",
    "print(missing_values)"
   ]
  },
  {
   "cell_type": "code",
   "execution_count": null,
   "id": "b5d5ead0-a075-47e3-bed0-bee3dca0240b",
   "metadata": {},
   "outputs": [],
   "source": [
    "merged.shape"
   ]
  },
  {
   "cell_type": "code",
   "execution_count": null,
   "id": "d0433e61-d9d4-468f-9a03-ad76b8b3038f",
   "metadata": {},
   "outputs": [],
   "source": [
    "final_data = merged.iloc[:,0:32]"
   ]
  },
  {
   "cell_type": "code",
   "execution_count": null,
   "id": "7e0fb347-3c3f-4fff-b0d4-bf7070539c67",
   "metadata": {},
   "outputs": [],
   "source": [
    "final_data.head()"
   ]
  },
  {
   "cell_type": "code",
   "execution_count": null,
   "id": "27409b01-74ac-4fe5-827a-2a012358838d",
   "metadata": {},
   "outputs": [],
   "source": [
    "final_data.columns"
   ]
  },
  {
   "cell_type": "code",
   "execution_count": null,
   "id": "733fbaf6-fb50-4252-9ab0-70ab33eead3b",
   "metadata": {},
   "outputs": [],
   "source": [
    "print(final_data.dtypes)"
   ]
  },
  {
   "cell_type": "code",
   "execution_count": null,
   "id": "d4d054b2-b17d-4bb2-9465-eb5c2c1cc304",
   "metadata": {},
   "outputs": [],
   "source": [
    "plt.figure(figsize = (24, 12))\n",
    "\n",
    "corr = final_data.corr()\n",
    "sns.heatmap(corr, annot = True, linewidths = 1)\n",
    "plt.show()"
   ]
  },
  {
   "cell_type": "code",
   "execution_count": null,
   "id": "9ddd2b84-e263-416e-84ac-65d6e66953d6",
   "metadata": {},
   "outputs": [],
   "source": [
    "correlation = final_data.corr()[\"is_booking\"].abs().sort_values(ascending = False)\n",
    "correlation"
   ]
  },
  {
   "cell_type": "code",
   "execution_count": null,
   "id": "ce0a6b3d-ca4a-4a22-a9cd-03463baa4c7c",
   "metadata": {},
   "outputs": [],
   "source": [
    "final_data.head()"
   ]
  },
  {
   "cell_type": "code",
   "execution_count": null,
   "id": "38685f08-4898-4a21-a3b5-318749369d08",
   "metadata": {},
   "outputs": [],
   "source": [
    "# convert the date-time column to a Pandas datetime object\n",
    "final_data['date_time'] = pd.to_datetime(final_data['date_time'])\n",
    "\n",
    "# extract the year, month, and day as numerical features\n",
    "final_data['year'] = final_data['date_time'].dt.year\n",
    "final_data['month'] = final_data['date_time'].dt.month\n",
    "final_data['day'] = final_data['date_time'].dt.day\n",
    "\n",
    "# drop the original date-time column and any other irrelevant columns\n",
    "final_data = final_data.drop(['date_time','Unnamed: 0','user_id','site_name','user_location_country',\n",
    "                              'user_location_region', 'user_location_city', 'srch_ci', \n",
    "                              'srch_co', 'hotel_country','srch_destination_name'], axis=1)"
   ]
  },
  {
   "cell_type": "code",
   "execution_count": null,
   "id": "9985fb7d-f8ac-44dc-b102-431287e54e1e",
   "metadata": {},
   "outputs": [],
   "source": [
    "final_data.head()"
   ]
  },
  {
   "cell_type": "code",
   "execution_count": null,
   "id": "8f9a92f5-fc4a-49de-8fc3-185124731829",
   "metadata": {},
   "outputs": [],
   "source": [
    "# creating numerical and categorical dataframes\n",
    "\n",
    "cat_cols = [col for col in final_data.columns if final_data[col].dtype == 'O']\n",
    "cat_cols"
   ]
  },
  {
   "cell_type": "code",
   "execution_count": null,
   "id": "189119c7-e4c1-4628-8d2a-01514e594c25",
   "metadata": {},
   "outputs": [],
   "source": [
    "cat_df = final_data[cat_cols]\n",
    "cat_df.head()"
   ]
  },
  {
   "cell_type": "code",
   "execution_count": null,
   "id": "63a74580-d5d3-4226-98d4-29b404dc2b0c",
   "metadata": {},
   "outputs": [],
   "source": [
    "# printing unique values of each column\n",
    "for col in cat_df.columns:\n",
    "    print(f\"{col}: \\n{cat_df[col].unique()}\\n\")"
   ]
  },
  {
   "cell_type": "code",
   "execution_count": null,
   "id": "db6791cf-6382-440c-a7ad-b74f51d0abff",
   "metadata": {},
   "outputs": [],
   "source": [
    "# create a LabelEncoder object\n",
    "le = LabelEncoder()\n",
    "\n",
    "# apply label encoding to the distance_band column\n",
    "final_data['distance_band_encoded'] = le.fit_transform(final_data['distance_band'])\n",
    "\n",
    "# apply label encoding to the hist_price_band column\n",
    "final_data['hist_price_band_encoded'] = le.fit_transform(final_data['hist_price_band'])\n",
    "\n",
    "# apply label encoding to the popularity_band column\n",
    "final_data['popularity_band_encoded'] = le.fit_transform(final_data['popularity_band'])\n"
   ]
  },
  {
   "cell_type": "code",
   "execution_count": null,
   "id": "763d6b11-181e-4654-8a2a-79b8ebaa6b79",
   "metadata": {},
   "outputs": [],
   "source": [
    "final_data.head()"
   ]
  },
  {
   "cell_type": "code",
   "execution_count": null,
   "id": "102a4310-0a5e-4c73-9463-b93be4c73c3c",
   "metadata": {},
   "outputs": [],
   "source": [
    "final_data.columns"
   ]
  },
  {
   "cell_type": "code",
   "execution_count": null,
   "id": "c413d856-1d27-4077-aa2d-c35717f79b7b",
   "metadata": {},
   "outputs": [],
   "source": [
    "final_data = final_data.drop(columns = cat_cols, axis = 1)"
   ]
  },
  {
   "cell_type": "code",
   "execution_count": null,
   "id": "76303383-d238-4f2b-8557-c40c7e936d81",
   "metadata": {},
   "outputs": [],
   "source": [
    "final_data.columns"
   ]
  },
  {
   "cell_type": "code",
   "execution_count": null,
   "id": "deefe572-69f8-4fbf-b87e-f614ddfbea07",
   "metadata": {},
   "outputs": [],
   "source": [
    "X = final_data.drop('is_booking', axis=1)\n",
    "y = final_data['is_booking']"
   ]
  },
  {
   "cell_type": "code",
   "execution_count": null,
   "id": "b7ae61b1-4357-403b-aa67-b154d4b1b4ee",
   "metadata": {},
   "outputs": [],
   "source": [
    "X.shape, y.shape"
   ]
  },
  {
   "cell_type": "code",
   "execution_count": null,
   "id": "2dcdb81e-3c93-44a4-89ab-66731af957e2",
   "metadata": {},
   "outputs": [],
   "source": [
    "\n",
    "\n",
    "# splitting data into training set and test set\n",
    "\n",
    "X_train, X_test, y_train, y_test = train_test_split(X, y, test_size = 0.30)"
   ]
  },
  {
   "cell_type": "code",
   "execution_count": null,
   "id": "31c7e608-09a6-43df-aa54-1ee8373d5c27",
   "metadata": {},
   "outputs": [],
   "source": [
    "X_train.head()"
   ]
  },
  {
   "cell_type": "code",
   "execution_count": null,
   "id": "a8d68810-b75b-46a0-90fe-08556f3e4913",
   "metadata": {},
   "outputs": [],
   "source": [
    "X_test.head()"
   ]
  },
  {
   "cell_type": "code",
   "execution_count": null,
   "id": "da4d2db3-1809-463b-a9fe-e5f83c4997b2",
   "metadata": {},
   "outputs": [],
   "source": [
    "y_train.head(), y_test.head()"
   ]
  },
  {
   "cell_type": "code",
   "execution_count": null,
   "id": "dfb6a5d9-43b1-4edd-87db-ac902d21c16f",
   "metadata": {},
   "outputs": [],
   "source": [
    "lr = LogisticRegression()\n",
    "lr.fit(X_train, y_train)\n",
    "\n",
    "y_pred_lr = lr.predict(X_test)\n",
    "\n",
    "acc_lr = accuracy_score(y_test, y_pred_lr)\n",
    "conf = confusion_matrix(y_test, y_pred_lr)\n",
    "clf_report = classification_report(y_test, y_pred_lr)\n",
    "\n",
    "print(f\"Accuracy Score of Logistic Regression is : {acc_lr}\")\n",
    "print(f\"Confusion Matrix : \\n{conf}\")\n",
    "print(f\"Classification Report : \\n{clf_report}\")"
   ]
  },
  {
   "cell_type": "code",
   "execution_count": null,
   "id": "75fbdf15-2f0d-4962-8ede-39d96d1f60cb",
   "metadata": {},
   "outputs": [],
   "source": [
    "knn = KNeighborsClassifier()\n",
    "knn.fit(X_train, y_train)\n",
    "\n",
    "y_pred_knn = knn.predict(X_test)\n",
    "\n",
    "acc_knn = accuracy_score(y_test, y_pred_knn)\n",
    "conf = confusion_matrix(y_test, y_pred_knn)\n",
    "clf_report = classification_report(y_test, y_pred_knn)\n",
    "\n",
    "print(f\"Accuracy Score of KNN is : {acc_knn}\")\n",
    "print(f\"Confusion Matrix : \\n{conf}\")\n",
    "print(f\"Classification Report : \\n{clf_report}\")"
   ]
  },
  {
   "cell_type": "code",
   "execution_count": null,
   "id": "6eef0876-70b7-4df4-a4bf-25cdb7e93ad1",
   "metadata": {},
   "outputs": [],
   "source": [
    "dtc = DecisionTreeClassifier()\n",
    "dtc.fit(X_train, y_train)\n",
    "\n",
    "y_pred_dtc = dtc.predict(X_test)\n",
    "\n",
    "acc_dtc = accuracy_score(y_test, y_pred_dtc)\n",
    "conf = confusion_matrix(y_test, y_pred_dtc)\n",
    "clf_report = classification_report(y_test, y_pred_dtc)\n",
    "\n",
    "print(f\"Accuracy Score of Decision Tree is : {acc_dtc}\")\n",
    "print(f\"Confusion Matrix : \\n{conf}\")\n",
    "print(f\"Classification Report : \\n{clf_report}\")"
   ]
  },
  {
   "cell_type": "code",
   "execution_count": null,
   "id": "3e22a7ee-8182-4281-a1e3-fe641a4c456f",
   "metadata": {},
   "outputs": [],
   "source": [
    "rd_clf = RandomForestClassifier()\n",
    "rd_clf.fit(X_train, y_train)\n",
    "\n",
    "y_pred_rd_clf = rd_clf.predict(X_test)\n",
    "\n",
    "acc_rd_clf = accuracy_score(y_test, y_pred_rd_clf)\n",
    "conf = confusion_matrix(y_test, y_pred_rd_clf)\n",
    "clf_report = classification_report(y_test, y_pred_rd_clf)\n",
    "\n",
    "print(f\"Accuracy Score of Random Forest is : {acc_rd_clf}\")\n",
    "print(f\"Confusion Matrix : \\n{conf}\")\n",
    "print(f\"Classification Report : \\n{clf_report}\")"
   ]
  },
  {
   "cell_type": "code",
   "execution_count": null,
   "id": "04dc9d30-0a60-450c-bcb2-895c5210756c",
   "metadata": {},
   "outputs": [],
   "source": [
    "ada = AdaBoostClassifier(base_estimator = dtc)\n",
    "ada.fit(X_train, y_train)\n",
    "\n",
    "y_pred_ada = ada.predict(X_test)\n",
    "\n",
    "acc_ada = accuracy_score(y_test, y_pred_ada)\n",
    "conf = confusion_matrix(y_test, y_pred_ada)\n",
    "clf_report = classification_report(y_test, y_pred_ada)\n",
    "\n",
    "print(f\"Accuracy Score of Ada Boost Classifier is : {acc_ada}\")\n",
    "print(f\"Confusion Matrix : \\n{conf}\")\n",
    "print(f\"Classification Report : \\n{clf_report}\")"
   ]
  },
  {
   "cell_type": "code",
   "execution_count": null,
   "id": "b1d9c7b3-cd3f-4008-9b05-b28b26ac1dcd",
   "metadata": {},
   "outputs": [],
   "source": [
    "gb = GradientBoostingClassifier()\n",
    "gb.fit(X_train, y_train)\n",
    "\n",
    "y_pred_gb = gb.predict(X_test)\n",
    "\n",
    "acc_gb = accuracy_score(y_test, y_pred_gb)\n",
    "conf = confusion_matrix(y_test, y_pred_gb)\n",
    "clf_report = classification_report(y_test, y_pred_gb)\n",
    "\n",
    "print(f\"Accuracy Score of Gradient Boosting Classifier is : {acc_gb}\")\n",
    "print(f\"Confusion Matrix : \\n{conf}\")\n",
    "print(f\"Classification Report : \\n{clf_report}\")"
   ]
  },
  {
   "cell_type": "code",
   "execution_count": null,
   "id": "baa9965c-5391-40cb-9f59-095d0b69233b",
   "metadata": {},
   "outputs": [],
   "source": [
    "xgb = XGBClassifier(booster = 'gbtree', learning_rate = 0.1, max_depth = 5, n_estimators = 180)\n",
    "xgb.fit(X_train, y_train)\n",
    "\n",
    "y_pred_xgb = xgb.predict(X_test)\n",
    "\n",
    "acc_xgb = accuracy_score(y_test, y_pred_xgb)\n",
    "conf = confusion_matrix(y_test, y_pred_xgb)\n",
    "clf_report = classification_report(y_test, y_pred_xgb)\n",
    "\n",
    "print(f\"Accuracy Score of XGB Classifier is : {acc_xgb}\")\n",
    "print(f\"Confusion Matrix : \\n{conf}\")\n",
    "print(f\"Classification Report : \\n{clf_report}\")"
   ]
  },
  {
   "cell_type": "code",
   "execution_count": null,
   "id": "6ee27ea2-fd58-48d9-a6df-6fac4c8a70d9",
   "metadata": {},
   "outputs": [],
   "source": [
    "cat = CatBoostClassifier(iterations=100)\n",
    "cat.fit(X_train, y_train)\n",
    "\n",
    "y_pred_cat = cat.predict(X_test)\n",
    "\n",
    "acc_cat = accuracy_score(y_test, y_pred_cat)\n",
    "conf = confusion_matrix(y_test, y_pred_cat)\n",
    "clf_report = classification_report(y_test, y_pred_cat)\n",
    "print(f\"Accuracy Score of Cat Boost Classifier is : {acc_cat}\")\n",
    "print(f\"Confusion Matrix : \\n{conf}\")\n",
    "print(f\"Classification Report : \\n{clf_report}\")"
   ]
  },
  {
   "cell_type": "code",
   "execution_count": null,
   "id": "5659cf76-d9a4-4129-8f19-c82cb325087f",
   "metadata": {},
   "outputs": [],
   "source": [
    "etc = ExtraTreesClassifier()\n",
    "etc.fit(X_train, y_train)\n",
    "\n",
    "y_pred_etc = etc.predict(X_test)\n",
    "\n",
    "acc_etc = accuracy_score(y_test, y_pred_etc)\n",
    "conf = confusion_matrix(y_test, y_pred_etc)\n",
    "clf_report = classification_report(y_test, y_pred_etc)\n",
    "\n",
    "print(f\"Accuracy Score of Extra Trees Classifier is : {acc_etc}\")\n",
    "print(f\"Confusion Matrix : \\n{conf}\")\n",
    "print(f\"Classification Report : \\n{clf_report}\")"
   ]
  },
  {
   "cell_type": "code",
   "execution_count": null,
   "id": "3d9e0667-8e19-4b5f-890d-fef74adec35b",
   "metadata": {},
   "outputs": [],
   "source": [
    "lgbm = LGBMClassifier(learning_rate = 1)\n",
    "lgbm.fit(X_train, y_train)\n",
    "\n",
    "y_pred_lgbm = lgbm.predict(X_test)\n",
    "\n",
    "acc_lgbm = accuracy_score(y_test, y_pred_lgbm)\n",
    "conf = confusion_matrix(y_test, y_pred_lgbm)\n",
    "clf_report = classification_report(y_test, y_pred_lgbm)\n",
    "\n",
    "print(f\"Accuracy Score of LGBM Classifier is : {acc_lgbm}\")\n",
    "print(f\"Confusion Matrix : \\n{conf}\")\n",
    "print(f\"Classification Report : \\n{clf_report}\")"
   ]
  },
  {
   "cell_type": "code",
   "execution_count": null,
   "id": "b5d6ce04-5005-4786-be29-ec87b9f5d4fd",
   "metadata": {},
   "outputs": [],
   "source": [
    "classifiers = [('Gradient Boosting Classifier', gb), ('Cat Boost Classifier', cat), ('XGboost', xgb),  ('Decision Tree', dtc),\n",
    "               ('Extra Tree', etc), ('Light Gradient', lgbm), ('Random Forest', rd_clf), ('Ada Boost', ada), ('Logistic', lr),\n",
    "               ('Knn', knn)]\n",
    "vc = VotingClassifier(estimators = classifiers)\n",
    "vc.fit(X_train, y_train)\n",
    "y_pred_vc = vc.predict(X_test)\n",
    "\n",
    "acc_vtc = accuracy_score(y_test, y_pred_vc)\n",
    "conf = confusion_matrix(y_test, y_pred_vc)\n",
    "clf_report = classification_report(y_test, y_pred_vc)\n",
    "\n",
    "print(f\"Accuracy Score of Voting Classifier is : {acc_vtc}\")\n",
    "print(f\"Confusion Matrix : \\n{conf}\")\n",
    "print(f\"Classification Report : \\n{clf_report}\")"
   ]
  },
  {
   "cell_type": "code",
   "execution_count": null,
   "id": "ec012efe-4ab7-410d-9347-be0fe351d1c9",
   "metadata": {},
   "outputs": [],
   "source": [
    "models = pd.DataFrame({\n",
    "    'Model' : ['Logistic Regression', 'KNN', 'Decision Tree Classifier', 'Random Forest Classifier','Ada Boost Classifier',\n",
    "             'Gradient Boosting Classifier', 'XgBoost', 'Cat Boost', 'Extra Trees Classifier', 'LGBM', 'Voting Classifier'],\n",
    "    'Score' : [acc_lr, acc_knn, acc_dtc, acc_rd_clf, acc_ada, acc_gb, acc_xgb, acc_cat, acc_etc, acc_lgbm, acc_vtc]\n",
    "})\n",
    "\n",
    "\n",
    "models.sort_values(by = 'Score', ascending = False)"
   ]
  },
  {
   "cell_type": "code",
   "execution_count": null,
   "id": "c5480e0b-6f01-4148-878c-e389f884da79",
   "metadata": {},
   "outputs": [],
   "source": [
    "import matplotlib.pyplot as plt\n",
    "\n",
    "# Define the models and scores\n",
    "models = ['Logistic Regression', 'KNN', 'Decision Tree Classifier', 'Random Forest Classifier', \n",
    "          'Ada Boost Classifier', 'Gradient Boosting Classifier', 'XgBoost', 'Cat Boost', \n",
    "          'Extra Trees Classifier', 'LGBM', 'Voting Classifier']\n",
    "scores = [0.910654, 0.905257, 0.830323, 0.871377, 0.846670, 0.910622, 0.910373, 0.907409, \n",
    "          0.861176, 0.886476, 0.909281]\n",
    "\n",
    "# Sort the models and scores in descending order by scores\n",
    "models_scores = sorted(zip(models, scores), key=lambda x: x[1], reverse=True)\n",
    "models_sorted = [model[0] for model in models_scores]\n",
    "scores_sorted = [model[1] for model in models_scores]\n",
    "\n",
    "# Define the colors for each bar\n",
    "colors = ['darkred', 'indianred', 'salmon', 'coral', 'khaki', 'mediumaquamarine', 'lightskyblue', \n",
    "          'steelblue', 'slateblue', 'violet', 'crimson']\n",
    "\n",
    "fig, ax = plt.subplots(figsize=(10, 6))\n",
    "\n",
    "# Create horizontal bar chart\n",
    "ax.barh(models_sorted, scores_sorted, color=colors)\n",
    "\n",
    "# Set chart title and axis labels\n",
    "ax.set_title('Models Comparison', fontsize=18)\n",
    "ax.set_xlabel('Score', fontsize=14)\n",
    "ax.set_ylabel('Model', fontsize=14)\n",
    "\n",
    "# Set y-axis tick font size\n",
    "ax.tick_params(axis='y', labelsize=12)\n",
    "\n",
    "# Invert y-axis to show highest score at the top\n",
    "ax.invert_yaxis()\n",
    "\n",
    "# Add percentage amount in front of each bar\n",
    "for i, v in enumerate(scores_sorted):\n",
    "    ax.text(v + 0.005, i, f'{v*100:.2f}%', color='black', fontsize=12, va='center')\n",
    "\n",
    "# Set x-axis limit\n",
    "ax.set_xlim([0.8, 0.95])\n",
    "plt.show()"
   ]
  },
  {
   "cell_type": "code",
   "execution_count": null,
   "id": "e0369766-d153-4196-bb36-33369d7d29b2",
   "metadata": {},
   "outputs": [],
   "source": []
  }
 ],
 "metadata": {
  "kernelspec": {
   "display_name": "Python 3 (ipykernel)",
   "language": "python",
   "name": "python3"
  },
  "language_info": {
   "codemirror_mode": {
    "name": "ipython",
    "version": 3
   },
   "file_extension": ".py",
   "mimetype": "text/x-python",
   "name": "python",
   "nbconvert_exporter": "python",
   "pygments_lexer": "ipython3",
   "version": "3.9.7"
  }
 },
 "nbformat": 4,
 "nbformat_minor": 5
}
